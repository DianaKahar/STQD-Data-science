{
  "cells": [
    {
      "cell_type": "markdown",
      "metadata": {
        "id": "view-in-github",
        "colab_type": "text"
      },
      "source": [
        "<a href=\"https://colab.research.google.com/github/DianaKahar/STQD-Data-science/blob/main/Project_2_Data_Science.ipynb\" target=\"_parent\"><img src=\"https://colab.research.google.com/assets/colab-badge.svg\" alt=\"Open In Colab\"/></a>"
      ]
    },
    {
      "cell_type": "markdown",
      "source": [
        "# PROJECT 2 DATA SCIENCE"
      ],
      "metadata": {
        "id": "HYBv7RbpSCnN"
      },
      "id": "HYBv7RbpSCnN"
    },
    {
      "cell_type": "markdown",
      "source": [
        "**Import Necessary Libraries**"
      ],
      "metadata": {
        "id": "l7ynwGY3R9hd"
      },
      "id": "l7ynwGY3R9hd"
    },
    {
      "cell_type": "code",
      "source": [
        "import pandas as pd"
      ],
      "metadata": {
        "id": "35w_CGuOR_6C"
      },
      "id": "35w_CGuOR_6C",
      "execution_count": null,
      "outputs": []
    },
    {
      "cell_type": "code",
      "execution_count": null,
      "id": "7dac1fc9",
      "metadata": {
        "id": "7dac1fc9"
      },
      "outputs": [],
      "source": [
        "import numpy as np"
      ]
    },
    {
      "cell_type": "code",
      "execution_count": null,
      "id": "ced18cd9",
      "metadata": {
        "id": "ced18cd9"
      },
      "outputs": [],
      "source": [
        "import matplotlib.pyplot as plt"
      ]
    },
    {
      "cell_type": "code",
      "execution_count": null,
      "id": "ead13856",
      "metadata": {
        "id": "ead13856"
      },
      "outputs": [],
      "source": [
        "import seaborn as sns"
      ]
    },
    {
      "cell_type": "markdown",
      "source": [
        "**INTRODUCTION**"
      ],
      "metadata": {
        "id": "j3D1YjL1WOSj"
      },
      "id": "j3D1YjL1WOSj"
    },
    {
      "cell_type": "markdown",
      "source": [
        "Online learning has become an popular platform for learning, providing accessible and diverse opportunities for learners everywhere. There are a vast variety of online learning platform such as coursera, Udemy, edX, LinkedIn Learning, canvas and many more. Udemy is one of the largest online learning platforms. Founded 13 years ago in 2010, it has evolved into a diverse marketplace connecting instructors with students providing an extensive range of subject and courses.\n",
        "\n",
        "The analysis dives through the Udemy datase and explores various aspects of its courses which includes subjects, pricing, popularity and trends over the years. The purpose of this analysis is to gain valueble insight into the dynamics of Udemy course offeings, understand the learners preference and identify potential areas of improvements.\n",
        "\n",
        "Examining factors such as course subjects, levels, pricing and subscriber engagement, we aim to provide a comprehensive overview of Udemy learning landscape. As we go through the analysis, we will be be able to uncover patterns, highlight key trends and offer valuble insight that ables us to contribute a deeper understanding of online learning dynamics on the platform."
      ],
      "metadata": {
        "id": "vqUd6Uf4Xelq"
      },
      "id": "vqUd6Uf4Xelq"
    },
    {
      "cell_type": "markdown",
      "source": [
        "**Load and Read Data**"
      ],
      "metadata": {
        "id": "BZmS0dkhWYAh"
      },
      "id": "BZmS0dkhWYAh"
    },
    {
      "cell_type": "code",
      "execution_count": null,
      "id": "b6925468",
      "metadata": {
        "id": "b6925468",
        "outputId": "65159c3c-68f3-4adb-b87a-36d9e1f5721a"
      },
      "outputs": [
        {
          "data": {
            "text/html": [
              "<div>\n",
              "<style scoped>\n",
              "    .dataframe tbody tr th:only-of-type {\n",
              "        vertical-align: middle;\n",
              "    }\n",
              "\n",
              "    .dataframe tbody tr th {\n",
              "        vertical-align: top;\n",
              "    }\n",
              "\n",
              "    .dataframe thead th {\n",
              "        text-align: right;\n",
              "    }\n",
              "</style>\n",
              "<table border=\"1\" class=\"dataframe\">\n",
              "  <thead>\n",
              "    <tr style=\"text-align: right;\">\n",
              "      <th></th>\n",
              "      <th>course_id</th>\n",
              "      <th>course_title</th>\n",
              "      <th>url</th>\n",
              "      <th>is_paid</th>\n",
              "      <th>price</th>\n",
              "      <th>num_subscribers</th>\n",
              "      <th>num_reviews</th>\n",
              "      <th>num_lectures</th>\n",
              "      <th>level</th>\n",
              "      <th>content_duration</th>\n",
              "      <th>published_timestamp</th>\n",
              "      <th>subject</th>\n",
              "    </tr>\n",
              "  </thead>\n",
              "  <tbody>\n",
              "    <tr>\n",
              "      <th>0</th>\n",
              "      <td>1070968</td>\n",
              "      <td>Ultimate Investment Banking Course</td>\n",
              "      <td>https://www.udemy.com/ultimate-investment-bank...</td>\n",
              "      <td>True</td>\n",
              "      <td>200</td>\n",
              "      <td>2147</td>\n",
              "      <td>23</td>\n",
              "      <td>51</td>\n",
              "      <td>All Levels</td>\n",
              "      <td>1.5</td>\n",
              "      <td>2017-01-18T20:58:58Z</td>\n",
              "      <td>Business Finance</td>\n",
              "    </tr>\n",
              "    <tr>\n",
              "      <th>1</th>\n",
              "      <td>1113822</td>\n",
              "      <td>Complete GST Course &amp; Certification - Grow You...</td>\n",
              "      <td>https://www.udemy.com/goods-and-services-tax/</td>\n",
              "      <td>True</td>\n",
              "      <td>75</td>\n",
              "      <td>2792</td>\n",
              "      <td>923</td>\n",
              "      <td>274</td>\n",
              "      <td>All Levels</td>\n",
              "      <td>39.0</td>\n",
              "      <td>2017-03-09T16:34:20Z</td>\n",
              "      <td>Business Finance</td>\n",
              "    </tr>\n",
              "    <tr>\n",
              "      <th>2</th>\n",
              "      <td>1006314</td>\n",
              "      <td>Financial Modeling for Business Analysts and C...</td>\n",
              "      <td>https://www.udemy.com/financial-modeling-for-b...</td>\n",
              "      <td>True</td>\n",
              "      <td>45</td>\n",
              "      <td>2174</td>\n",
              "      <td>74</td>\n",
              "      <td>51</td>\n",
              "      <td>Intermediate Level</td>\n",
              "      <td>2.5</td>\n",
              "      <td>2016-12-19T19:26:30Z</td>\n",
              "      <td>Business Finance</td>\n",
              "    </tr>\n",
              "    <tr>\n",
              "      <th>3</th>\n",
              "      <td>1210588</td>\n",
              "      <td>Beginner to Pro - Financial Analysis in Excel ...</td>\n",
              "      <td>https://www.udemy.com/complete-excel-finance-c...</td>\n",
              "      <td>True</td>\n",
              "      <td>95</td>\n",
              "      <td>2451</td>\n",
              "      <td>11</td>\n",
              "      <td>36</td>\n",
              "      <td>All Levels</td>\n",
              "      <td>3.0</td>\n",
              "      <td>2017-05-30T20:07:24Z</td>\n",
              "      <td>Business Finance</td>\n",
              "    </tr>\n",
              "    <tr>\n",
              "      <th>4</th>\n",
              "      <td>1011058</td>\n",
              "      <td>How To Maximize Your Profits Trading Options</td>\n",
              "      <td>https://www.udemy.com/how-to-maximize-your-pro...</td>\n",
              "      <td>True</td>\n",
              "      <td>200</td>\n",
              "      <td>1276</td>\n",
              "      <td>45</td>\n",
              "      <td>26</td>\n",
              "      <td>Intermediate Level</td>\n",
              "      <td>2.0</td>\n",
              "      <td>2016-12-13T14:57:18Z</td>\n",
              "      <td>Business Finance</td>\n",
              "    </tr>\n",
              "    <tr>\n",
              "      <th>...</th>\n",
              "      <td>...</td>\n",
              "      <td>...</td>\n",
              "      <td>...</td>\n",
              "      <td>...</td>\n",
              "      <td>...</td>\n",
              "      <td>...</td>\n",
              "      <td>...</td>\n",
              "      <td>...</td>\n",
              "      <td>...</td>\n",
              "      <td>...</td>\n",
              "      <td>...</td>\n",
              "      <td>...</td>\n",
              "    </tr>\n",
              "    <tr>\n",
              "      <th>3673</th>\n",
              "      <td>775618</td>\n",
              "      <td>Learn jQuery from Scratch - Master of JavaScri...</td>\n",
              "      <td>https://www.udemy.com/easy-jquery-for-beginner...</td>\n",
              "      <td>True</td>\n",
              "      <td>100</td>\n",
              "      <td>1040</td>\n",
              "      <td>14</td>\n",
              "      <td>21</td>\n",
              "      <td>All Levels</td>\n",
              "      <td>2.0</td>\n",
              "      <td>2016-06-14T17:36:46Z</td>\n",
              "      <td>Web Development</td>\n",
              "    </tr>\n",
              "    <tr>\n",
              "      <th>3674</th>\n",
              "      <td>1088178</td>\n",
              "      <td>How To Design A WordPress Website With No Codi...</td>\n",
              "      <td>https://www.udemy.com/how-to-make-a-wordpress-...</td>\n",
              "      <td>True</td>\n",
              "      <td>25</td>\n",
              "      <td>306</td>\n",
              "      <td>3</td>\n",
              "      <td>42</td>\n",
              "      <td>Beginner Level</td>\n",
              "      <td>3.5</td>\n",
              "      <td>2017-03-10T22:24:30Z</td>\n",
              "      <td>Web Development</td>\n",
              "    </tr>\n",
              "    <tr>\n",
              "      <th>3675</th>\n",
              "      <td>635248</td>\n",
              "      <td>Learn and Build using Polymer</td>\n",
              "      <td>https://www.udemy.com/learn-and-build-using-po...</td>\n",
              "      <td>True</td>\n",
              "      <td>40</td>\n",
              "      <td>513</td>\n",
              "      <td>169</td>\n",
              "      <td>48</td>\n",
              "      <td>All Levels</td>\n",
              "      <td>3.5</td>\n",
              "      <td>2015-12-30T16:41:42Z</td>\n",
              "      <td>Web Development</td>\n",
              "    </tr>\n",
              "    <tr>\n",
              "      <th>3676</th>\n",
              "      <td>905096</td>\n",
              "      <td>CSS Animations: Create Amazing Effects on Your...</td>\n",
              "      <td>https://www.udemy.com/css-animations-create-am...</td>\n",
              "      <td>True</td>\n",
              "      <td>50</td>\n",
              "      <td>300</td>\n",
              "      <td>31</td>\n",
              "      <td>38</td>\n",
              "      <td>All Levels</td>\n",
              "      <td>3.0</td>\n",
              "      <td>2016-08-11T19:06:15Z</td>\n",
              "      <td>Web Development</td>\n",
              "    </tr>\n",
              "    <tr>\n",
              "      <th>3677</th>\n",
              "      <td>297602</td>\n",
              "      <td>Using MODX CMS to Build Websites: A Beginner's...</td>\n",
              "      <td>https://www.udemy.com/using-modx-cms-to-build-...</td>\n",
              "      <td>True</td>\n",
              "      <td>45</td>\n",
              "      <td>901</td>\n",
              "      <td>36</td>\n",
              "      <td>20</td>\n",
              "      <td>Beginner Level</td>\n",
              "      <td>2.0</td>\n",
              "      <td>2014-09-28T19:51:11Z</td>\n",
              "      <td>Web Development</td>\n",
              "    </tr>\n",
              "  </tbody>\n",
              "</table>\n",
              "<p>3678 rows × 12 columns</p>\n",
              "</div>"
            ],
            "text/plain": [
              "      course_id                                       course_title  \\\n",
              "0       1070968                 Ultimate Investment Banking Course   \n",
              "1       1113822  Complete GST Course & Certification - Grow You...   \n",
              "2       1006314  Financial Modeling for Business Analysts and C...   \n",
              "3       1210588  Beginner to Pro - Financial Analysis in Excel ...   \n",
              "4       1011058       How To Maximize Your Profits Trading Options   \n",
              "...         ...                                                ...   \n",
              "3673     775618  Learn jQuery from Scratch - Master of JavaScri...   \n",
              "3674    1088178  How To Design A WordPress Website With No Codi...   \n",
              "3675     635248                      Learn and Build using Polymer   \n",
              "3676     905096  CSS Animations: Create Amazing Effects on Your...   \n",
              "3677     297602  Using MODX CMS to Build Websites: A Beginner's...   \n",
              "\n",
              "                                                    url  is_paid  price  \\\n",
              "0     https://www.udemy.com/ultimate-investment-bank...     True    200   \n",
              "1         https://www.udemy.com/goods-and-services-tax/     True     75   \n",
              "2     https://www.udemy.com/financial-modeling-for-b...     True     45   \n",
              "3     https://www.udemy.com/complete-excel-finance-c...     True     95   \n",
              "4     https://www.udemy.com/how-to-maximize-your-pro...     True    200   \n",
              "...                                                 ...      ...    ...   \n",
              "3673  https://www.udemy.com/easy-jquery-for-beginner...     True    100   \n",
              "3674  https://www.udemy.com/how-to-make-a-wordpress-...     True     25   \n",
              "3675  https://www.udemy.com/learn-and-build-using-po...     True     40   \n",
              "3676  https://www.udemy.com/css-animations-create-am...     True     50   \n",
              "3677  https://www.udemy.com/using-modx-cms-to-build-...     True     45   \n",
              "\n",
              "      num_subscribers  num_reviews  num_lectures               level  \\\n",
              "0                2147           23            51          All Levels   \n",
              "1                2792          923           274          All Levels   \n",
              "2                2174           74            51  Intermediate Level   \n",
              "3                2451           11            36          All Levels   \n",
              "4                1276           45            26  Intermediate Level   \n",
              "...               ...          ...           ...                 ...   \n",
              "3673             1040           14            21          All Levels   \n",
              "3674              306            3            42      Beginner Level   \n",
              "3675              513          169            48          All Levels   \n",
              "3676              300           31            38          All Levels   \n",
              "3677              901           36            20      Beginner Level   \n",
              "\n",
              "      content_duration   published_timestamp           subject  \n",
              "0                  1.5  2017-01-18T20:58:58Z  Business Finance  \n",
              "1                 39.0  2017-03-09T16:34:20Z  Business Finance  \n",
              "2                  2.5  2016-12-19T19:26:30Z  Business Finance  \n",
              "3                  3.0  2017-05-30T20:07:24Z  Business Finance  \n",
              "4                  2.0  2016-12-13T14:57:18Z  Business Finance  \n",
              "...                ...                   ...               ...  \n",
              "3673               2.0  2016-06-14T17:36:46Z   Web Development  \n",
              "3674               3.5  2017-03-10T22:24:30Z   Web Development  \n",
              "3675               3.5  2015-12-30T16:41:42Z   Web Development  \n",
              "3676               3.0  2016-08-11T19:06:15Z   Web Development  \n",
              "3677               2.0  2014-09-28T19:51:11Z   Web Development  \n",
              "\n",
              "[3678 rows x 12 columns]"
            ]
          },
          "execution_count": 140,
          "metadata": {},
          "output_type": "execute_result"
        }
      ],
      "source": [
        "df = pd.read_csv(\"udemy_courses.csv\")\n",
        "df"
      ]
    },
    {
      "cell_type": "markdown",
      "source": [
        "**PROBLEM STATEMENT**"
      ],
      "metadata": {
        "id": "ESG37Ff_Wqgi"
      },
      "id": "ESG37Ff_Wqgi"
    },
    {
      "cell_type": "markdown",
      "source": [
        "While Udemy offers a vast range of course with various subjects and skill level, its important to understand the patterns and trends that can shed light on the factors contributing to the success and challenges of these courses. Inquiries emerge about the impact of course pricing, the distribution of subjects and the correlationg between course level and number of subscribers.\n",
        "\n",
        "Questions for further analysis:\n",
        "\n",
        "a) What are the most popular subjects among the subscribers?\n",
        "\n",
        "b) How does pricing influence the number of subscribers?\n",
        "\n",
        "c) Is there a correlation between level of courses and the subjects?\n",
        "\n",
        "d) What is the trend for number of subscribers over the years?"
      ],
      "metadata": {
        "id": "yPKETfNPewZ5"
      },
      "id": "yPKETfNPewZ5"
    },
    {
      "cell_type": "markdown",
      "source": [
        "**Data Cleaning and Preparation**"
      ],
      "metadata": {
        "id": "5hVtr9cHWxTR"
      },
      "id": "5hVtr9cHWxTR"
    },
    {
      "cell_type": "code",
      "execution_count": null,
      "id": "bd244760",
      "metadata": {
        "id": "bd244760",
        "outputId": "9620264b-86fd-478a-9a52-05da355961ce"
      },
      "outputs": [
        {
          "name": "stdout",
          "output_type": "stream",
          "text": [
            "<class 'pandas.core.frame.DataFrame'>\n",
            "RangeIndex: 3678 entries, 0 to 3677\n",
            "Data columns (total 12 columns):\n",
            " #   Column               Non-Null Count  Dtype  \n",
            "---  ------               --------------  -----  \n",
            " 0   course_id            3678 non-null   int64  \n",
            " 1   course_title         3678 non-null   object \n",
            " 2   url                  3678 non-null   object \n",
            " 3   is_paid              3678 non-null   bool   \n",
            " 4   price                3678 non-null   int64  \n",
            " 5   num_subscribers      3678 non-null   int64  \n",
            " 6   num_reviews          3678 non-null   int64  \n",
            " 7   num_lectures         3678 non-null   int64  \n",
            " 8   level                3678 non-null   object \n",
            " 9   content_duration     3678 non-null   float64\n",
            " 10  published_timestamp  3678 non-null   object \n",
            " 11  subject              3678 non-null   object \n",
            "dtypes: bool(1), float64(1), int64(5), object(5)\n",
            "memory usage: 319.8+ KB\n"
          ]
        }
      ],
      "source": [
        "df.info()"
      ]
    },
    {
      "cell_type": "code",
      "execution_count": null,
      "id": "ee962236",
      "metadata": {
        "id": "ee962236",
        "outputId": "a7cc0876-0925-4b3d-b617-581b8319c3ca"
      },
      "outputs": [
        {
          "data": {
            "text/html": [
              "<div>\n",
              "<style scoped>\n",
              "    .dataframe tbody tr th:only-of-type {\n",
              "        vertical-align: middle;\n",
              "    }\n",
              "\n",
              "    .dataframe tbody tr th {\n",
              "        vertical-align: top;\n",
              "    }\n",
              "\n",
              "    .dataframe thead th {\n",
              "        text-align: right;\n",
              "    }\n",
              "</style>\n",
              "<table border=\"1\" class=\"dataframe\">\n",
              "  <thead>\n",
              "    <tr style=\"text-align: right;\">\n",
              "      <th></th>\n",
              "      <th>course_id</th>\n",
              "      <th>price</th>\n",
              "      <th>num_subscribers</th>\n",
              "      <th>num_reviews</th>\n",
              "      <th>num_lectures</th>\n",
              "      <th>content_duration</th>\n",
              "    </tr>\n",
              "  </thead>\n",
              "  <tbody>\n",
              "    <tr>\n",
              "      <th>count</th>\n",
              "      <td>3.678000e+03</td>\n",
              "      <td>3678.000000</td>\n",
              "      <td>3678.000000</td>\n",
              "      <td>3678.000000</td>\n",
              "      <td>3678.000000</td>\n",
              "      <td>3678.000000</td>\n",
              "    </tr>\n",
              "    <tr>\n",
              "      <th>mean</th>\n",
              "      <td>6.759720e+05</td>\n",
              "      <td>66.049483</td>\n",
              "      <td>3197.150625</td>\n",
              "      <td>156.259108</td>\n",
              "      <td>40.108755</td>\n",
              "      <td>4.094517</td>\n",
              "    </tr>\n",
              "    <tr>\n",
              "      <th>std</th>\n",
              "      <td>3.432732e+05</td>\n",
              "      <td>61.005755</td>\n",
              "      <td>9504.117010</td>\n",
              "      <td>935.452044</td>\n",
              "      <td>50.383346</td>\n",
              "      <td>6.053840</td>\n",
              "    </tr>\n",
              "    <tr>\n",
              "      <th>min</th>\n",
              "      <td>8.324000e+03</td>\n",
              "      <td>0.000000</td>\n",
              "      <td>0.000000</td>\n",
              "      <td>0.000000</td>\n",
              "      <td>0.000000</td>\n",
              "      <td>0.000000</td>\n",
              "    </tr>\n",
              "    <tr>\n",
              "      <th>25%</th>\n",
              "      <td>4.076925e+05</td>\n",
              "      <td>20.000000</td>\n",
              "      <td>111.000000</td>\n",
              "      <td>4.000000</td>\n",
              "      <td>15.000000</td>\n",
              "      <td>1.000000</td>\n",
              "    </tr>\n",
              "    <tr>\n",
              "      <th>50%</th>\n",
              "      <td>6.879170e+05</td>\n",
              "      <td>45.000000</td>\n",
              "      <td>911.500000</td>\n",
              "      <td>18.000000</td>\n",
              "      <td>25.000000</td>\n",
              "      <td>2.000000</td>\n",
              "    </tr>\n",
              "    <tr>\n",
              "      <th>75%</th>\n",
              "      <td>9.613555e+05</td>\n",
              "      <td>95.000000</td>\n",
              "      <td>2546.000000</td>\n",
              "      <td>67.000000</td>\n",
              "      <td>45.750000</td>\n",
              "      <td>4.500000</td>\n",
              "    </tr>\n",
              "    <tr>\n",
              "      <th>max</th>\n",
              "      <td>1.282064e+06</td>\n",
              "      <td>200.000000</td>\n",
              "      <td>268923.000000</td>\n",
              "      <td>27445.000000</td>\n",
              "      <td>779.000000</td>\n",
              "      <td>78.500000</td>\n",
              "    </tr>\n",
              "  </tbody>\n",
              "</table>\n",
              "</div>"
            ],
            "text/plain": [
              "          course_id        price  num_subscribers   num_reviews  num_lectures  \\\n",
              "count  3.678000e+03  3678.000000      3678.000000   3678.000000   3678.000000   \n",
              "mean   6.759720e+05    66.049483      3197.150625    156.259108     40.108755   \n",
              "std    3.432732e+05    61.005755      9504.117010    935.452044     50.383346   \n",
              "min    8.324000e+03     0.000000         0.000000      0.000000      0.000000   \n",
              "25%    4.076925e+05    20.000000       111.000000      4.000000     15.000000   \n",
              "50%    6.879170e+05    45.000000       911.500000     18.000000     25.000000   \n",
              "75%    9.613555e+05    95.000000      2546.000000     67.000000     45.750000   \n",
              "max    1.282064e+06   200.000000    268923.000000  27445.000000    779.000000   \n",
              "\n",
              "       content_duration  \n",
              "count       3678.000000  \n",
              "mean           4.094517  \n",
              "std            6.053840  \n",
              "min            0.000000  \n",
              "25%            1.000000  \n",
              "50%            2.000000  \n",
              "75%            4.500000  \n",
              "max           78.500000  "
            ]
          },
          "execution_count": 142,
          "metadata": {},
          "output_type": "execute_result"
        }
      ],
      "source": [
        "df.describe()"
      ]
    },
    {
      "cell_type": "code",
      "execution_count": null,
      "id": "0e8e20fd",
      "metadata": {
        "id": "0e8e20fd",
        "outputId": "0fa73006-e7af-4988-9c13-85da83185f27"
      },
      "outputs": [
        {
          "data": {
            "text/plain": [
              "course_id              0\n",
              "course_title           0\n",
              "url                    0\n",
              "is_paid                0\n",
              "price                  0\n",
              "num_subscribers        0\n",
              "num_reviews            0\n",
              "num_lectures           0\n",
              "level                  0\n",
              "content_duration       0\n",
              "published_timestamp    0\n",
              "subject                0\n",
              "dtype: int64"
            ]
          },
          "execution_count": 143,
          "metadata": {},
          "output_type": "execute_result"
        }
      ],
      "source": [
        "df.isnull().sum()"
      ]
    },
    {
      "cell_type": "code",
      "execution_count": null,
      "id": "2e094398",
      "metadata": {
        "id": "2e094398"
      },
      "outputs": [],
      "source": [
        "df['date'] = pd.to_datetime(df['published_timestamp'])"
      ]
    },
    {
      "cell_type": "code",
      "execution_count": null,
      "id": "e1e6560f",
      "metadata": {
        "id": "e1e6560f",
        "outputId": "3a6519a4-993a-4fcc-9132-2cc9711737b4"
      },
      "outputs": [
        {
          "data": {
            "text/html": [
              "<div>\n",
              "<style scoped>\n",
              "    .dataframe tbody tr th:only-of-type {\n",
              "        vertical-align: middle;\n",
              "    }\n",
              "\n",
              "    .dataframe tbody tr th {\n",
              "        vertical-align: top;\n",
              "    }\n",
              "\n",
              "    .dataframe thead th {\n",
              "        text-align: right;\n",
              "    }\n",
              "</style>\n",
              "<table border=\"1\" class=\"dataframe\">\n",
              "  <thead>\n",
              "    <tr style=\"text-align: right;\">\n",
              "      <th></th>\n",
              "      <th>course_title</th>\n",
              "      <th>is_paid</th>\n",
              "      <th>price</th>\n",
              "      <th>num_subscribers</th>\n",
              "      <th>num_reviews</th>\n",
              "      <th>num_lectures</th>\n",
              "      <th>level</th>\n",
              "      <th>content_duration</th>\n",
              "      <th>subject</th>\n",
              "      <th>date</th>\n",
              "    </tr>\n",
              "  </thead>\n",
              "  <tbody>\n",
              "    <tr>\n",
              "      <th>2623</th>\n",
              "      <td>jQuery Crash Course: Learn the Essentials of j...</td>\n",
              "      <td>True</td>\n",
              "      <td>50</td>\n",
              "      <td>11262</td>\n",
              "      <td>142</td>\n",
              "      <td>18</td>\n",
              "      <td>All Levels</td>\n",
              "      <td>2.0</td>\n",
              "      <td>Web Development</td>\n",
              "      <td>2015-01-07 03:12:34+00:00</td>\n",
              "    </tr>\n",
              "  </tbody>\n",
              "</table>\n",
              "</div>"
            ],
            "text/plain": [
              "                                           course_title  is_paid  price  \\\n",
              "2623  jQuery Crash Course: Learn the Essentials of j...     True     50   \n",
              "\n",
              "      num_subscribers  num_reviews  num_lectures       level  \\\n",
              "2623            11262          142            18  All Levels   \n",
              "\n",
              "      content_duration          subject                      date  \n",
              "2623               2.0  Web Development 2015-01-07 03:12:34+00:00  "
            ]
          },
          "execution_count": 145,
          "metadata": {},
          "output_type": "execute_result"
        }
      ],
      "source": [
        "df.drop(['course_id', 'url', 'published_timestamp'], axis = 1, inplace = True)\n",
        "df.sample()"
      ]
    },
    {
      "cell_type": "code",
      "execution_count": null,
      "id": "3435e3ad",
      "metadata": {
        "id": "3435e3ad",
        "outputId": "212b5558-2a8d-406e-c8c4-03b582d3a319"
      },
      "outputs": [
        {
          "name": "stdout",
          "output_type": "stream",
          "text": [
            "<class 'pandas.core.frame.DataFrame'>\n",
            "RangeIndex: 3678 entries, 0 to 3677\n",
            "Data columns (total 10 columns):\n",
            " #   Column            Non-Null Count  Dtype              \n",
            "---  ------            --------------  -----              \n",
            " 0   course_title      3678 non-null   object             \n",
            " 1   is_paid           3678 non-null   bool               \n",
            " 2   price             3678 non-null   int64              \n",
            " 3   num_subscribers   3678 non-null   int64              \n",
            " 4   num_reviews       3678 non-null   int64              \n",
            " 5   num_lectures      3678 non-null   int64              \n",
            " 6   level             3678 non-null   object             \n",
            " 7   content_duration  3678 non-null   float64            \n",
            " 8   subject           3678 non-null   object             \n",
            " 9   date              3678 non-null   datetime64[ns, UTC]\n",
            "dtypes: bool(1), datetime64[ns, UTC](1), float64(1), int64(4), object(3)\n",
            "memory usage: 262.3+ KB\n"
          ]
        }
      ],
      "source": [
        "df.info()"
      ]
    },
    {
      "cell_type": "code",
      "execution_count": null,
      "id": "8edffed9",
      "metadata": {
        "id": "8edffed9",
        "outputId": "c707c74c-abcd-46e3-97d5-8d2c6db5cb8b"
      },
      "outputs": [
        {
          "data": {
            "text/plain": [
              "6"
            ]
          },
          "execution_count": 147,
          "metadata": {},
          "output_type": "execute_result"
        }
      ],
      "source": [
        "df.duplicated().sum()"
      ]
    },
    {
      "cell_type": "code",
      "execution_count": null,
      "id": "219c12e4",
      "metadata": {
        "id": "219c12e4"
      },
      "outputs": [],
      "source": [
        "df.drop_duplicates(inplace = True)"
      ]
    },
    {
      "cell_type": "code",
      "execution_count": null,
      "id": "40653e20",
      "metadata": {
        "id": "40653e20",
        "outputId": "0f662e98-b593-4aad-99d2-8206558d6521"
      },
      "outputs": [
        {
          "data": {
            "text/plain": [
              "(False, 0)"
            ]
          },
          "execution_count": 149,
          "metadata": {},
          "output_type": "execute_result"
        }
      ],
      "source": [
        "df.duplicated().any(), df.duplicated().sum()"
      ]
    },
    {
      "cell_type": "code",
      "execution_count": null,
      "id": "7aa53722",
      "metadata": {
        "id": "7aa53722",
        "outputId": "ccf0daad-9558-4b86-ce8e-d2a7936e485c"
      },
      "outputs": [
        {
          "data": {
            "text/plain": [
              "subject\n",
              "Web Development        1199\n",
              "Business Finance       1191\n",
              "Musical Instruments     680\n",
              "Graphic Design          602\n",
              "Name: count, dtype: int64"
            ]
          },
          "execution_count": 150,
          "metadata": {},
          "output_type": "execute_result"
        }
      ],
      "source": [
        "df['subject'].value_counts()"
      ]
    },
    {
      "cell_type": "code",
      "execution_count": null,
      "id": "e34d4164",
      "metadata": {
        "id": "e34d4164",
        "outputId": "60c41d61-38ba-43a0-a249-b68ecfcc834c"
      },
      "outputs": [
        {
          "data": {
            "text/html": [
              "<div>\n",
              "<style scoped>\n",
              "    .dataframe tbody tr th:only-of-type {\n",
              "        vertical-align: middle;\n",
              "    }\n",
              "\n",
              "    .dataframe tbody tr th {\n",
              "        vertical-align: top;\n",
              "    }\n",
              "\n",
              "    .dataframe thead th {\n",
              "        text-align: right;\n",
              "    }\n",
              "</style>\n",
              "<table border=\"1\" class=\"dataframe\">\n",
              "  <thead>\n",
              "    <tr style=\"text-align: right;\">\n",
              "      <th></th>\n",
              "      <th>subject</th>\n",
              "      <th>level</th>\n",
              "      <th>course_title</th>\n",
              "      <th>is_paid</th>\n",
              "      <th>price</th>\n",
              "      <th>num_subscribers</th>\n",
              "      <th>num_reviews</th>\n",
              "      <th>num_lectures</th>\n",
              "      <th>content_duration</th>\n",
              "      <th>date</th>\n",
              "    </tr>\n",
              "  </thead>\n",
              "  <tbody>\n",
              "    <tr>\n",
              "      <th>0</th>\n",
              "      <td>Business Finance</td>\n",
              "      <td>All Levels</td>\n",
              "      <td>693</td>\n",
              "      <td>693</td>\n",
              "      <td>693</td>\n",
              "      <td>693</td>\n",
              "      <td>693</td>\n",
              "      <td>693</td>\n",
              "      <td>693</td>\n",
              "      <td>693</td>\n",
              "    </tr>\n",
              "    <tr>\n",
              "      <th>1</th>\n",
              "      <td>Business Finance</td>\n",
              "      <td>Beginner Level</td>\n",
              "      <td>339</td>\n",
              "      <td>339</td>\n",
              "      <td>339</td>\n",
              "      <td>339</td>\n",
              "      <td>339</td>\n",
              "      <td>339</td>\n",
              "      <td>339</td>\n",
              "      <td>339</td>\n",
              "    </tr>\n",
              "    <tr>\n",
              "      <th>2</th>\n",
              "      <td>Business Finance</td>\n",
              "      <td>Expert Level</td>\n",
              "      <td>31</td>\n",
              "      <td>31</td>\n",
              "      <td>31</td>\n",
              "      <td>31</td>\n",
              "      <td>31</td>\n",
              "      <td>31</td>\n",
              "      <td>31</td>\n",
              "      <td>31</td>\n",
              "    </tr>\n",
              "    <tr>\n",
              "      <th>3</th>\n",
              "      <td>Business Finance</td>\n",
              "      <td>Intermediate Level</td>\n",
              "      <td>128</td>\n",
              "      <td>128</td>\n",
              "      <td>128</td>\n",
              "      <td>128</td>\n",
              "      <td>128</td>\n",
              "      <td>128</td>\n",
              "      <td>128</td>\n",
              "      <td>128</td>\n",
              "    </tr>\n",
              "    <tr>\n",
              "      <th>4</th>\n",
              "      <td>Graphic Design</td>\n",
              "      <td>All Levels</td>\n",
              "      <td>298</td>\n",
              "      <td>298</td>\n",
              "      <td>298</td>\n",
              "      <td>298</td>\n",
              "      <td>298</td>\n",
              "      <td>298</td>\n",
              "      <td>298</td>\n",
              "      <td>298</td>\n",
              "    </tr>\n",
              "    <tr>\n",
              "      <th>5</th>\n",
              "      <td>Graphic Design</td>\n",
              "      <td>Beginner Level</td>\n",
              "      <td>242</td>\n",
              "      <td>242</td>\n",
              "      <td>242</td>\n",
              "      <td>242</td>\n",
              "      <td>242</td>\n",
              "      <td>242</td>\n",
              "      <td>242</td>\n",
              "      <td>242</td>\n",
              "    </tr>\n",
              "    <tr>\n",
              "      <th>6</th>\n",
              "      <td>Graphic Design</td>\n",
              "      <td>Expert Level</td>\n",
              "      <td>5</td>\n",
              "      <td>5</td>\n",
              "      <td>5</td>\n",
              "      <td>5</td>\n",
              "      <td>5</td>\n",
              "      <td>5</td>\n",
              "      <td>5</td>\n",
              "      <td>5</td>\n",
              "    </tr>\n",
              "    <tr>\n",
              "      <th>7</th>\n",
              "      <td>Graphic Design</td>\n",
              "      <td>Intermediate Level</td>\n",
              "      <td>57</td>\n",
              "      <td>57</td>\n",
              "      <td>57</td>\n",
              "      <td>57</td>\n",
              "      <td>57</td>\n",
              "      <td>57</td>\n",
              "      <td>57</td>\n",
              "      <td>57</td>\n",
              "    </tr>\n",
              "    <tr>\n",
              "      <th>8</th>\n",
              "      <td>Musical Instruments</td>\n",
              "      <td>All Levels</td>\n",
              "      <td>276</td>\n",
              "      <td>276</td>\n",
              "      <td>276</td>\n",
              "      <td>276</td>\n",
              "      <td>276</td>\n",
              "      <td>276</td>\n",
              "      <td>276</td>\n",
              "      <td>276</td>\n",
              "    </tr>\n",
              "    <tr>\n",
              "      <th>9</th>\n",
              "      <td>Musical Instruments</td>\n",
              "      <td>Beginner Level</td>\n",
              "      <td>296</td>\n",
              "      <td>296</td>\n",
              "      <td>296</td>\n",
              "      <td>296</td>\n",
              "      <td>296</td>\n",
              "      <td>296</td>\n",
              "      <td>296</td>\n",
              "      <td>296</td>\n",
              "    </tr>\n",
              "    <tr>\n",
              "      <th>10</th>\n",
              "      <td>Musical Instruments</td>\n",
              "      <td>Expert Level</td>\n",
              "      <td>7</td>\n",
              "      <td>7</td>\n",
              "      <td>7</td>\n",
              "      <td>7</td>\n",
              "      <td>7</td>\n",
              "      <td>7</td>\n",
              "      <td>7</td>\n",
              "      <td>7</td>\n",
              "    </tr>\n",
              "    <tr>\n",
              "      <th>11</th>\n",
              "      <td>Musical Instruments</td>\n",
              "      <td>Intermediate Level</td>\n",
              "      <td>101</td>\n",
              "      <td>101</td>\n",
              "      <td>101</td>\n",
              "      <td>101</td>\n",
              "      <td>101</td>\n",
              "      <td>101</td>\n",
              "      <td>101</td>\n",
              "      <td>101</td>\n",
              "    </tr>\n",
              "    <tr>\n",
              "      <th>12</th>\n",
              "      <td>Web Development</td>\n",
              "      <td>All Levels</td>\n",
              "      <td>658</td>\n",
              "      <td>658</td>\n",
              "      <td>658</td>\n",
              "      <td>658</td>\n",
              "      <td>658</td>\n",
              "      <td>658</td>\n",
              "      <td>658</td>\n",
              "      <td>658</td>\n",
              "    </tr>\n",
              "    <tr>\n",
              "      <th>13</th>\n",
              "      <td>Web Development</td>\n",
              "      <td>Beginner Level</td>\n",
              "      <td>391</td>\n",
              "      <td>391</td>\n",
              "      <td>391</td>\n",
              "      <td>391</td>\n",
              "      <td>391</td>\n",
              "      <td>391</td>\n",
              "      <td>391</td>\n",
              "      <td>391</td>\n",
              "    </tr>\n",
              "    <tr>\n",
              "      <th>14</th>\n",
              "      <td>Web Development</td>\n",
              "      <td>Expert Level</td>\n",
              "      <td>15</td>\n",
              "      <td>15</td>\n",
              "      <td>15</td>\n",
              "      <td>15</td>\n",
              "      <td>15</td>\n",
              "      <td>15</td>\n",
              "      <td>15</td>\n",
              "      <td>15</td>\n",
              "    </tr>\n",
              "    <tr>\n",
              "      <th>15</th>\n",
              "      <td>Web Development</td>\n",
              "      <td>Intermediate Level</td>\n",
              "      <td>135</td>\n",
              "      <td>135</td>\n",
              "      <td>135</td>\n",
              "      <td>135</td>\n",
              "      <td>135</td>\n",
              "      <td>135</td>\n",
              "      <td>135</td>\n",
              "      <td>135</td>\n",
              "    </tr>\n",
              "  </tbody>\n",
              "</table>\n",
              "</div>"
            ],
            "text/plain": [
              "                subject               level  course_title  is_paid  price  \\\n",
              "0      Business Finance          All Levels           693      693    693   \n",
              "1      Business Finance      Beginner Level           339      339    339   \n",
              "2      Business Finance        Expert Level            31       31     31   \n",
              "3      Business Finance  Intermediate Level           128      128    128   \n",
              "4        Graphic Design          All Levels           298      298    298   \n",
              "5        Graphic Design      Beginner Level           242      242    242   \n",
              "6        Graphic Design        Expert Level             5        5      5   \n",
              "7        Graphic Design  Intermediate Level            57       57     57   \n",
              "8   Musical Instruments          All Levels           276      276    276   \n",
              "9   Musical Instruments      Beginner Level           296      296    296   \n",
              "10  Musical Instruments        Expert Level             7        7      7   \n",
              "11  Musical Instruments  Intermediate Level           101      101    101   \n",
              "12      Web Development          All Levels           658      658    658   \n",
              "13      Web Development      Beginner Level           391      391    391   \n",
              "14      Web Development        Expert Level            15       15     15   \n",
              "15      Web Development  Intermediate Level           135      135    135   \n",
              "\n",
              "    num_subscribers  num_reviews  num_lectures  content_duration  date  \n",
              "0               693          693           693               693   693  \n",
              "1               339          339           339               339   339  \n",
              "2                31           31            31                31    31  \n",
              "3               128          128           128               128   128  \n",
              "4               298          298           298               298   298  \n",
              "5               242          242           242               242   242  \n",
              "6                 5            5             5                 5     5  \n",
              "7                57           57            57                57    57  \n",
              "8               276          276           276               276   276  \n",
              "9               296          296           296               296   296  \n",
              "10                7            7             7                 7     7  \n",
              "11              101          101           101               101   101  \n",
              "12              658          658           658               658   658  \n",
              "13              391          391           391               391   391  \n",
              "14               15           15            15                15    15  \n",
              "15              135          135           135               135   135  "
            ]
          },
          "execution_count": 181,
          "metadata": {},
          "output_type": "execute_result"
        }
      ],
      "source": [
        "dfsub = df.groupby(['subject', 'level'], as_index = False). count()\n",
        "dfsub"
      ]
    },
    {
      "cell_type": "code",
      "source": [
        "df['level'].value_counts()"
      ],
      "metadata": {
        "id": "4k-_YXvYhWu_"
      },
      "id": "4k-_YXvYhWu_",
      "execution_count": null,
      "outputs": []
    },
    {
      "cell_type": "code",
      "source": [
        "df['year'] = df['date'].dt.year"
      ],
      "metadata": {
        "id": "a3fojRkahZ5N"
      },
      "id": "a3fojRkahZ5N",
      "execution_count": null,
      "outputs": []
    },
    {
      "cell_type": "code",
      "source": [
        "df.info()"
      ],
      "metadata": {
        "id": "6BDFU5lJhcfX"
      },
      "id": "6BDFU5lJhcfX",
      "execution_count": null,
      "outputs": []
    },
    {
      "cell_type": "code",
      "source": [
        "df['price'].value_counts()"
      ],
      "metadata": {
        "id": "MtZJYQeZhlG_"
      },
      "id": "MtZJYQeZhlG_",
      "execution_count": null,
      "outputs": []
    },
    {
      "cell_type": "code",
      "source": [
        "df['is_paid'].value_counts()"
      ],
      "metadata": {
        "id": "83_0aErNhmSt"
      },
      "id": "83_0aErNhmSt",
      "execution_count": null,
      "outputs": []
    },
    {
      "cell_type": "code",
      "source": [
        "subject_counts = df['subject'].value_counts()\n",
        "subject_counts"
      ],
      "metadata": {
        "id": "tj89GGSshvuo"
      },
      "id": "tj89GGSshvuo",
      "execution_count": null,
      "outputs": []
    },
    {
      "cell_type": "code",
      "source": [
        "labels = subject_counts.index\n",
        "sizes = subject_counts.values\n",
        "custom_palette = sns.color_palette('husl', n_colors= len(labels))"
      ],
      "metadata": {
        "id": "Ly0bGwPphyfe"
      },
      "id": "Ly0bGwPphyfe",
      "execution_count": null,
      "outputs": []
    },
    {
      "cell_type": "markdown",
      "source": [
        "**RESULTS**"
      ],
      "metadata": {
        "id": "SWMFVkPGXAZB"
      },
      "id": "SWMFVkPGXAZB"
    },
    {
      "cell_type": "code",
      "execution_count": null,
      "id": "dabcbb13",
      "metadata": {
        "id": "dabcbb13",
        "outputId": "db19fc0d-2e32-4817-c4fb-b2dd8deb9f16"
      },
      "outputs": [
        {
          "data": {
            "image/png": "[encoded data removed]",
            "text/plain": [
              "<Figure size 1600x900 with 1 Axes>"
            ]
          },
          "metadata": {},
          "output_type": "display_data"
        }
      ],
      "source": [
        "plt.figure(figsize = (16,9))\n",
        "sns.barplot(data = dfsub, x ='subject', y ='price', hue ='level', palette = ['orange','pink','darkblue','lightgreen'])\n",
        "\n",
        "plt.title('Level distribution by Subjects', fontsize =16)\n",
        "plt.ylabel('Total',fontsize =14)\n",
        "plt.xlabel('Subjects',fontsize =14);\n",
        "\n",
        "plt.show()"
      ]
    },
    {
      "cell_type": "code",
      "execution_count": null,
      "id": "7f649595",
      "metadata": {
        "id": "7f649595",
        "outputId": "cd97c25c-1f1d-41bf-dfc6-4b74cad5ec09"
      },
      "outputs": [
        {
          "data": {
            "image/png": "[encoded data removed]",
            "text/plain": [
              "<Figure size 640x480 with 1 Axes>"
            ]
          },
          "metadata": {},
          "output_type": "display_data"
        }
      ],
      "source": [
        "sns.lineplot(data= df, x= 'year', y= 'num_subscribers', marker= 'o', color= 'red')\n",
        "plt.title('Number of Subscribers Over the Years', fontsize= 16)\n",
        "plt.xlabel('Year', fontsize= 14)\n",
        "plt.ylabel('Number of Subscribers', fontsize= 14)\n",
        "\n",
        "plt.show()"
      ]
    },
    {
      "cell_type": "code",
      "execution_count": null,
      "id": "d00b779f",
      "metadata": {
        "id": "d00b779f",
        "outputId": "37c1b4d0-20b4-4d45-aa04-184b2c600f4a"
      },
      "outputs": [
        {
          "data": {
            "image/png": "[encoded data removed]",
            "text/plain": [
              "<Figure size 640x480 with 1 Axes>"
            ]
          },
          "metadata": {},
          "output_type": "display_data"
        }
      ],
      "source": [
        "sns.lineplot(data=df, x='year', y='price', marker='o', color='green')\n",
        "plt.title('Prices Over the Years by Category', fontsize= 16)\n",
        "plt.xlabel('Year', fontsize= 14)\n",
        "plt.ylabel('Price', fontsize= 14)\n",
        "\n",
        "plt.show()"
      ]
    },
    {
      "cell_type": "code",
      "execution_count": null,
      "id": "b48ce920",
      "metadata": {
        "id": "b48ce920",
        "outputId": "6bfdf2df-4e78-49a4-b5cf-9f023a7bf10c"
      },
      "outputs": [
        {
          "data": {
            "image/png": "[encoded data removed]",
            "text/plain": [
              "<Figure size 1000x600 with 1 Axes>"
            ]
          },
          "metadata": {},
          "output_type": "display_data"
        }
      ],
      "source": [
        "plt.figure(figsize=(10, 6))\n",
        "sns.countplot(data= df, x= 'is_paid', palette= ['purple','pink'])\n",
        "plt.title('Number of Subscribers for Paid and Free Courses', fontsize = 16)\n",
        "plt.xlabel('Paid?', fontsize = 14)\n",
        "plt.ylabel('Number of Subscribers', fontsize = 14)\n",
        "\n",
        "plt.show()"
      ]
    },
    {
      "cell_type": "code",
      "execution_count": null,
      "id": "2d65135b",
      "metadata": {
        "id": "2d65135b",
        "outputId": "89b561f7-e2d2-4e3b-f2aa-9b82e1c79370"
      },
      "outputs": [
        {
          "data": {
            "image/png": "[encoded data removed]",
            "text/plain": [
              "<Figure size 800x800 with 1 Axes>"
            ]
          },
          "metadata": {},
          "output_type": "display_data"
        }
      ],
      "source": [
        "plt.figure(figsize= (8, 8))\n",
        "plt.pie(sizes, labels= labels, autopct= '%1.1f%%', colors= custom_palette)\n",
        "plt.title('Distribution of Subscribers by Subject', fontsize= 16)\n",
        "\n",
        "plt.show()"
      ]
    },
    {
      "cell_type": "markdown",
      "source": [
        "**DISCUSSIONS AND INSIGHT**"
      ],
      "metadata": {
        "id": "teyQMPq1XIHx"
      },
      "id": "teyQMPq1XIHx"
    },
    {
      "cell_type": "markdown",
      "source": [
        "**CONCLUSIONS**"
      ],
      "metadata": {
        "id": "pE90-r-wXQgH"
      },
      "id": "pE90-r-wXQgH"
    }
  ],
  "metadata": {
    "kernelspec": {
      "display_name": "Python 3 (ipykernel)",
      "language": "python",
      "name": "python3"
    },
    "language_info": {
      "codemirror_mode": {
        "name": "ipython",
        "version": 3
      },
      "file_extension": ".py",
      "mimetype": "text/x-python",
      "name": "python",
      "nbconvert_exporter": "python",
      "pygments_lexer": "ipython3",
      "version": "3.11.5"
    },
    "colab": {
      "provenance": [],
      "include_colab_link": true
    }
  },
  "nbformat": 4,
  "nbformat_minor": 5
}